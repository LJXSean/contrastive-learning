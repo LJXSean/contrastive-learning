{
 "cells": [
  {
   "cell_type": "code",
   "execution_count": 2,
   "metadata": {},
   "outputs": [],
   "source": [
    "import pandas as pd\n",
    "import json\n",
    "\n",
    "data_path_aclarc = \"./acl-arc/scaffolds/sections-scaffold-train.jsonl\"\n",
    "data_path_scicite = \"./scicite/scaffolds/sections-scaffold-train.jsonl\"\n",
    "with open(data_path_aclarc, encoding='utf-8') as data_file:\n",
    "    data = [json.loads(line) for line in data_file]\n",
    "    df = pd.DataFrame(data).drop_duplicates()\n"
   ]
  },
  {
   "cell_type": "markdown",
   "metadata": {},
   "source": [
    "#### Positive Sampling"
   ]
  },
  {
   "cell_type": "code",
   "execution_count": 3,
   "metadata": {},
   "outputs": [],
   "source": [
    "sort_cols_section_paper = ['section_name', 'cited_paper_id']\n",
    "sort_cols_section = ['section_name']\n",
    "sort_cols = sort_cols_section_paper\n",
    "final_cols = ['text', 'text_pos', 'section_name', 'citing_paper_id', 'cited_paper_id']\n",
    "\n",
    "def split_and_concatenate(group):\n",
    "    # Calculate the split index\n",
    "    split_index = len(group) // 2\n",
    "    \n",
    "    # Split the group into two halves\n",
    "    first_half = group.iloc[:split_index].reset_index(drop=True)['text']\n",
    "    second_half = group.iloc[split_index:].reset_index(drop=True)\n",
    "    second_half.rename(columns={'text': 'text_pos'}, inplace=True)\n",
    "\n",
    "    # Concatenate the halves horizontally\n",
    "    concatenated = pd.concat([first_half, second_half], axis=1)\n",
    "    return concatenated\n",
    "\n",
    "# Gets samples using concatenation\n",
    "def get_pos_samples_concat(df):\n",
    "    df_concat = df.copy(deep=True)\n",
    "\n",
    "    # Dummy columns for groupby, to keep original columns\n",
    "    include_groups = [i + '_drop' for i in sort_cols]\n",
    "    df_concat[include_groups] = df_concat[sort_cols]\n",
    "    \n",
    "    result = df_concat.groupby(include_groups).apply(split_and_concatenate, include_groups=False).reset_index(drop=True)\n",
    "    return result\n"
   ]
  },
  {
   "cell_type": "code",
   "execution_count": 4,
   "metadata": {},
   "outputs": [],
   "source": [
    "# Gets samples using Right Outer join\n",
    "def get_pos_samples_rj(df):\n",
    "    df_sorted = df.sort_values(sort_cols).reset_index(drop=True)\n",
    "    df_sorted['WithinGroupID'] = df_sorted.groupby(sort_cols).cumcount()\n",
    "\n",
    "    # Calculate the size of each group and the split point\n",
    "    df_sorted['group_sizes'] = df_sorted.groupby(sort_cols)['WithinGroupID'].transform('max') + 1\n",
    "    df_sorted['cutoff'] = (df_sorted['group_sizes'] / 2).round().astype(int)\n",
    "\n",
    "\n",
    "    # Split groups into half\n",
    "    first_half = df_sorted[df_sorted['WithinGroupID'] < df_sorted['cutoff']]\n",
    "    second_half = df_sorted[df_sorted['WithinGroupID'] >=  df_sorted['cutoff']].reset_index(drop=True)\n",
    "\n",
    "    # Right Join on second half\n",
    "    second_half = second_half.set_axis([i + '_pos' for i in second_half.columns], axis=1)\n",
    "    result = first_half.merge(second_half, how='right', left_on=sort_cols, right_on=[i + '_pos' for i in sort_cols])\n",
    "\n",
    "    selected_cols = ['text', 'text_pos', 'section_name_pos', 'citing_paper_id_pos', 'cited_paper_id_pos']\n",
    "    result = result[selected_cols]\n",
    "    \n",
    "    return result.set_axis(final_cols, axis=1)"
   ]
  },
  {
   "cell_type": "code",
   "execution_count": 7,
   "metadata": {},
   "outputs": [],
   "source": [
    "concat = get_pos_samples_concat(df)\n",
    "rj = get_pos_samples_rj(df)"
   ]
  },
  {
   "cell_type": "code",
   "execution_count": 41,
   "metadata": {},
   "outputs": [],
   "source": [
    "# Replace NA with text_pos (dropout in roberta will treat this as unsupervised learning)\n",
    "def handle_na(df):\n",
    "    df.loc[pd.isna(df['text']), 'text'] = df.loc[pd.isna(df['text'])]['text_pos']\n",
    "\n",
    "handle_na(concat)\n",
    "handle_na(rj)\n",
    "\n",
    "concat[['text', 'text_pos']].to_csv('data_file.csv', index=False)"
   ]
  },
  {
   "cell_type": "markdown",
   "metadata": {},
   "source": [
    "#### Hard Negative"
   ]
  },
  {
   "cell_type": "code",
   "execution_count": 4,
   "metadata": {},
   "outputs": [],
   "source": []
  },
  {
   "cell_type": "markdown",
   "metadata": {},
   "source": [
    "#### Tokenise data"
   ]
  },
  {
   "cell_type": "code",
   "execution_count": 2,
   "metadata": {},
   "outputs": [],
   "source": [
    "from transformers import AutoTokenizer\n",
    "from datasets import load_dataset\n",
    "\n",
    "dataset = load_dataset(\"csv\", data_files=\"data_file.csv\")\n",
    "\n",
    "tokenizer = AutoTokenizer.from_pretrained(\"bert-base-uncased\")\n",
    "column_names = dataset['train'].column_names\n",
    "\n",
    "# Testing\n",
    "def tokenize(examples, max_length=256):\n",
    "    id_masks_all_cols = []\n",
    "    col_name = column_names[0]\n",
    "    length = len(examples[col_name])\n",
    "\n",
    "    # Tokenize examples for each column\n",
    "    for k in column_names:\n",
    "        id_mask = tokenizer(examples[k], truncation=True, padding='max_length', max_length=max_length)\n",
    "        id_masks_all_cols.append(id_mask)\n",
    "\n",
    "    zipped_id_mask = {}\n",
    "    id_mask_col = id_masks_all_cols[0]\n",
    "\n",
    "    # Zips all columns together for each feature, input_id/attention_mask\n",
    "    for feature in id_mask_col:\n",
    "        zipped_id_mask[feature] = [[id_mask[feature][i] for id_mask in id_masks_all_cols] for i in range(length)]\n",
    "\n",
    "    return zipped_id_mask\n",
    "\n",
    "# Shape = [#features, #sentences, #samples(anchor, pos, neg)]\n",
    "tokenized = dataset['train'].map(tokenize, batched=True, remove_columns=column_names)"
   ]
  },
  {
   "cell_type": "markdown",
   "metadata": {},
   "source": [
    "#### Create batch of examples"
   ]
  },
  {
   "cell_type": "code",
   "execution_count": 3,
   "metadata": {},
   "outputs": [],
   "source": [
    "from torch.utils.data import DataLoader\n",
    "\n",
    "tokenized.set_format(\"torch\")\n",
    "\n",
    "small_train_dataset = tokenized.shuffle(seed=42).select(range(1000))\n",
    "train_dataloader = DataLoader(small_train_dataset, shuffle=True, batch_size=32)"
   ]
  },
  {
   "cell_type": "code",
   "execution_count": 4,
   "metadata": {},
   "outputs": [
    {
     "name": "stdout",
     "output_type": "stream",
     "text": [
      "torch.Size([32, 2, 256])\n"
     ]
    }
   ],
   "source": [
    "for batch in train_dataloader:\n",
    "    # Shape = [#featuress, #batch_size, #tensor_length]\n",
    "    print(batch['input_ids'].shape)\n",
    "    break"
   ]
  },
  {
   "cell_type": "markdown",
   "metadata": {},
   "source": [
    "#### NT-Xent Loss "
   ]
  },
  {
   "cell_type": "code",
   "execution_count": 5,
   "metadata": {},
   "outputs": [],
   "source": [
    "import torch\n",
    "import torch.nn as nn\n",
    "\n",
    "def contrastive_loss(embeddings, temperature=0.1):\n",
    "    sents_per_vector = embeddings.size(1)\n",
    "\n",
    "    if sents_per_vector < 2 or sents_per_vector > 3:\n",
    "        raise Exception(\"Unexpected number of sentences per sample received. Expected: 2/3\") \n",
    "    \n",
    "    cos_sim = nn.CosineSimilarity(dim=-1)\n",
    "\n",
    "    # Reshape to 3D for broadcast computation\n",
    "    anchor = embeddings[:, 0].unsqueeze(1)\n",
    "    positive = embeddings[:, 1].unsqueeze(0)\n",
    "    \n",
    "    # Pairwise cosine similarity, shape = [batch_size, batch_size]\n",
    "    pairwise_sim = cos_sim(anchor, positive)\n",
    "\n",
    "    # index of positive sample for corresponding anchors (matrix diagonal)\n",
    "    target = torch.arange(pairwise_sim.size(0))\n",
    "\n",
    "    # Horizontally concatenate hard_neg similarities (if any)\n",
    "    if sents_per_vector == 3:\n",
    "        hard_neg = embeddings[:, 2].unsqueeze(0)\n",
    "        hard_neg_sim = cos_sim(anchor, hard_neg)\n",
    "        pairwise_sim = torch.cat([pairwise_sim, hard_neg_sim], 1)\n",
    "    \n",
    "    pairwise_sim /= temperature\n",
    "\n",
    "    loss = nn.CrossEntropyLoss()\n",
    "    output = loss(pairwise_sim, target)\n",
    "\n",
    "    return output"
   ]
  },
  {
   "cell_type": "code",
   "execution_count": 6,
   "metadata": {},
   "outputs": [
    {
     "name": "stderr",
     "output_type": "stream",
     "text": [
      "Some weights of RobertaModel were not initialized from the model checkpoint at roberta-base and are newly initialized: ['roberta.pooler.dense.bias', 'roberta.pooler.dense.weight']\n",
      "You should probably TRAIN this model on a down-stream task to be able to use it for predictions and inference.\n"
     ]
    },
    {
     "name": "stdout",
     "output_type": "stream",
     "text": [
      "Batch: 1/32, Loss: 3.4412519931793213\n"
     ]
    }
   ],
   "source": [
    "from torch.optim import AdamW\n",
    "from transformers import RobertaModel\n",
    "\n",
    "def train(batch):\n",
    "    input_ids = batch['input_ids']\n",
    "    attention_mask = batch['attention_mask']\n",
    "    batch_size, sents_per_vector, tensor_size = input_ids.shape\n",
    "\n",
    "    # Flatten to encode all at once\n",
    "    input_ids = torch.reshape(input_ids, (-1, tensor_size))\n",
    "    attention_mask = torch.reshape(attention_mask, (-1, tensor_size))\n",
    "\n",
    "    # Use [CLS] token representation\n",
    "    outputs = model(input_ids=input_ids, attention_mask=attention_mask)\n",
    "    embeddings = outputs.last_hidden_state[:, 0]\n",
    "\n",
    "    # Reshape back to nested tensors\n",
    "    embeddings = torch.reshape(embeddings, (batch_size, sents_per_vector, -1))\n",
    "    return embeddings\n",
    "\n",
    "model = RobertaModel.from_pretrained('roberta-base')\n",
    "optimizer = AdamW(model.parameters(), lr=5e-5)\n",
    "epochs = 2\n",
    "\n",
    "for epoch in range(epochs):\n",
    "    total_loss = 0\n",
    "    # Shape = [#features, #batch_size, #tensor_length]\n",
    "    for i, batch in enumerate(train_dataloader):\n",
    "        optimizer.zero_grad()\n",
    "\n",
    "        embeddings = train(batch)\n",
    "        loss = contrastive_loss(embeddings)\n",
    "        loss.backward()\n",
    "        optimizer.step()\n",
    "        \n",
    "        total_loss += loss.item()\n",
    "\n",
    "        if i % 4 == 0:\n",
    "            print(f\"Batch: {i+1}/{len(train_dataloader)}, Loss: {total_loss/(i+1)}\")\n",
    "    \n",
    "    print(f\"Epoch {epoch+1}, Loss: {total_loss/len(train_dataloader)}\")\n",
    "        "
   ]
  }
 ],
 "metadata": {
  "kernelspec": {
   "display_name": "Python 3",
   "language": "python",
   "name": "python3"
  },
  "language_info": {
   "codemirror_mode": {
    "name": "ipython",
    "version": 3
   },
   "file_extension": ".py",
   "mimetype": "text/x-python",
   "name": "python",
   "nbconvert_exporter": "python",
   "pygments_lexer": "ipython3",
   "version": "3.10.10"
  }
 },
 "nbformat": 4,
 "nbformat_minor": 2
}
