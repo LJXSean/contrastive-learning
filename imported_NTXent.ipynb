{
 "cells": [
  {
   "cell_type": "code",
   "execution_count": 13,
   "metadata": {},
   "outputs": [],
   "source": [
    "import pandas as pd\n",
    "import json\n",
    "import torch\n",
    "from torch.optim import AdamW\n",
    "from transformers import AutoModel\n",
    "from transformers import AutoTokenizer, AutoConfig\n",
    "from datasets import load_dataset\n",
    "from torch.utils.data import DataLoader\n",
    "from pytorch_metric_learning import miners, losses\n",
    "from datasets import load_metric\n",
    "from torch import nn\n",
    "import os"
   ]
  },
  {
   "cell_type": "markdown",
   "metadata": {},
   "source": [
    "#### Tokenise data"
   ]
  },
  {
   "cell_type": "code",
   "execution_count": 14,
   "metadata": {},
   "outputs": [],
   "source": [
    "class CitationDataSet:\n",
    "    def __init__(self, source, tokenizer_name='allenai/scibert_scivocab_uncased'):\n",
    "        self.dataset = load_dataset(\"csv\", data_files=source)\n",
    "        self.tokenizer = AutoTokenizer.from_pretrained(tokenizer_name)\n",
    "        self.column_names = self.dataset['train'].column_names\n",
    "        self.col_name = self.column_names[0]\n",
    "        self.label_col = self.column_names[-1]\n",
    "\n",
    "    def tokenize(self, examples, max_length=256):\n",
    "        id_masks_all_cols = []\n",
    "        batch_size = len(examples[self.col_name])\n",
    "\n",
    "        # Tokenize examples for each column (ignore last column ie. 'label')\n",
    "        for k in self.column_names[:-1]:\n",
    "            id_mask = self.tokenizer(examples[k], truncation=True, padding='max_length', max_length=max_length)\n",
    "            id_masks_all_cols.append(id_mask)\n",
    "\n",
    "        zipped_id_mask = {}\n",
    "        id_mask_col = id_masks_all_cols[0]\n",
    "\n",
    "        # Zips all columns together for each feature, input_id/attention_mask\n",
    "        for feature in id_mask_col:\n",
    "            zipped_id_mask[feature] = [[id_mask[feature][i] for id_mask in id_masks_all_cols] for i in range(batch_size)]\n",
    "\n",
    "        zipped_id_mask[self.label_col] = examples[self.label_col]\n",
    "        return zipped_id_mask\n",
    "\n",
    "    \n",
    "    def get_dataloader(self):\n",
    "        # Shape = [features, batch_size, (anchor, pos)/label]\n",
    "        dataset = self.dataset['train'].map(self.tokenize, batched=True, remove_columns=self.column_names)\n",
    "\n",
    "        dataset.set_format(\"torch\")\n",
    "        train_dataloader = DataLoader(dataset, shuffle=True, batch_size=32)\n",
    "        return train_dataloader"
   ]
  },
  {
   "cell_type": "markdown",
   "metadata": {},
   "source": [
    "#### Fine Tune Model"
   ]
  },
  {
   "cell_type": "code",
   "execution_count": 15,
   "metadata": {},
   "outputs": [],
   "source": [
    "# Uses [CLS] token representation\n",
    "class CitationIntentEncoder(nn.Module):\n",
    "    def __init__(self, sciBert):\n",
    "        super(CitationIntentEncoder, self).__init__()\n",
    "        self.sentence_transformer = sciBert\n",
    "        self.dense = nn.Linear(768, 768)\n",
    "        self.activation = nn.Tanh()\n",
    "\n",
    "    def forward(self, input_ids, attention_mask):\n",
    "        embeddings = self.sentence_transformer(input_ids, attention_mask)\n",
    "        cls_representation = embeddings.last_hidden_state[:, 0]\n",
    "        x = self.dense(cls_representation)\n",
    "        return self.activation(x)\n",
    "\n",
    "def encoder(batch, model):\n",
    "    input_ids = batch['input_ids']\n",
    "    attention_mask = batch['attention_mask']\n",
    "    labels = batch['label']\n",
    "\n",
    "    # Flatten to encode all at once\n",
    "    input_ids = torch.cat((input_ids[:, 0], input_ids[:, 1]))\n",
    "    attention_mask = torch.cat((attention_mask[:, 0], attention_mask[:, 1]))\n",
    "    labels = labels.repeat(2)\n",
    "\n",
    "    # Data augmentation handled by scibert, dropout implemented under the hood\n",
    "    embeddings = model(input_ids, attention_mask)\n",
    "    return embeddings, labels"
   ]
  },
  {
   "cell_type": "code",
   "execution_count": 16,
   "metadata": {},
   "outputs": [],
   "source": [
    "miner = miners.MultiSimilarityMiner()\n",
    "loss_func = losses.NTXentLoss(temperature=0.07)\n",
    "\n",
    "def train_and_save(save_directory, train_dataloader, mining=False, model_name='allenai/scibert_scivocab_uncased'):\n",
    "    sciBert = AutoModel.from_pretrained(model_name)\n",
    "    model = CitationIntentEncoder(sciBert)\n",
    "    \n",
    "    model.train()\n",
    "\n",
    "    optimizer = AdamW(model.parameters(), lr=5e-5)\n",
    "    epochs = 3\n",
    "\n",
    "    for epoch in range(epochs):\n",
    "        total_loss = 0\n",
    "        # Shape = [#features, #batch_size, #tensor_length]\n",
    "        for i, batch in enumerate(train_dataloader):\n",
    "            optimizer.zero_grad()\n",
    "\n",
    "            embeddings, labels = encoder(batch, model)\n",
    "            if mining:\n",
    "                hard_pairs = miner(embeddings, labels)\n",
    "                loss = loss_func(embeddings, labels, hard_pairs)\n",
    "            else:\n",
    "                loss = loss_func(embeddings, labels)\n",
    "\n",
    "            loss.backward()\n",
    "            optimizer.step()\n",
    "            \n",
    "            total_loss += loss.item()\n",
    "\n",
    "            if i % 10 == 0:\n",
    "                print(f\"Batch: {i+1}/{len(train_dataloader)}\")\n",
    "        \n",
    "        print(f\"Epoch {epoch+1}, Loss: {total_loss/len(train_dataloader)}\")\n",
    "\n",
    "    # Save the configuration of SciBERT separately\n",
    "    torch.save(model.state_dict(), save_directory + '/CLModel_state_dict.bin')\n",
    "    model.sentence_transformer.config.save_pretrained(save_directory)\n",
    "    return model"
   ]
  },
  {
   "cell_type": "code",
   "execution_count": 17,
   "metadata": {},
   "outputs": [
    {
     "name": "stdout",
     "output_type": "stream",
     "text": [
      "Batch: 1/6856\n",
      "Epoch 1, Loss: 0.0001284694049155281\n"
     ]
    }
   ],
   "source": [
    "save_directory = './sectionPaper_mlp_without_hard'\n",
    "os.mkdir(save_directory)\n",
    "\n",
    "train_dataloader = CitationDataSet(\"data_file_sectionPaper.csv\").get_dataloader()\n",
    "trained_model = train_and_save(save_directory, train_dataloader, True)"
   ]
  },
  {
   "cell_type": "markdown",
   "metadata": {},
   "source": [
    "#### Sanity Check"
   ]
  },
  {
   "cell_type": "code",
   "execution_count": 18,
   "metadata": {},
   "outputs": [
    {
     "data": {
      "text/plain": [
       "<All keys matched successfully>"
      ]
     },
     "execution_count": 18,
     "metadata": {},
     "output_type": "execute_result"
    }
   ],
   "source": [
    "# Load trained model\n",
    "config = AutoConfig.from_pretrained('./sectionPaper_mlp_without_hard')\n",
    "sciBert = AutoModel.from_config(config)\n",
    "new_model = CitationIntentEncoder(sciBert)\n",
    "\n",
    "new_model.load_state_dict(torch.load('sectionPaper_mlp_without_hard/CLModel_state_dict.bin'))\n"
   ]
  },
  {
   "cell_type": "code",
   "execution_count": 19,
   "metadata": {},
   "outputs": [
    {
     "name": "stdout",
     "output_type": "stream",
     "text": [
      "tensor([ 0.4898,  0.5942,  0.6847,  0.4240, -0.0637,  0.4012, -0.2855,  0.3623,\n",
      "         0.1967, -0.6772])\n",
      "tensor(6839)\n"
     ]
    }
   ],
   "source": [
    "sample_batch = None\n",
    "for i, batch in enumerate(train_dataloader):\n",
    "    sample_batch = batch\n",
    "    break\n",
    "\n",
    "trained_model.eval()\n",
    "with torch.no_grad():\n",
    "    embeddings, labels = encoder(sample_batch, trained_model)\n",
    "    print(embeddings[0][:10])\n",
    "    print(labels[0])"
   ]
  },
  {
   "cell_type": "code",
   "execution_count": 20,
   "metadata": {},
   "outputs": [
    {
     "name": "stdout",
     "output_type": "stream",
     "text": [
      "tensor([ 0.4898,  0.5942,  0.6847,  0.4240, -0.0637,  0.4012, -0.2855,  0.3623,\n",
      "         0.1967, -0.6772])\n",
      "tensor(6839)\n"
     ]
    }
   ],
   "source": [
    "new_model.eval()\n",
    "with torch.no_grad():\n",
    "    embeddings, labels = encoder(sample_batch, new_model)\n",
    "    print(embeddings[0][:10])\n",
    "    print(labels[0])"
   ]
  }
 ],
 "metadata": {
  "kernelspec": {
   "display_name": "Python 3",
   "language": "python",
   "name": "python3"
  },
  "language_info": {
   "codemirror_mode": {
    "name": "ipython",
    "version": 3
   },
   "file_extension": ".py",
   "mimetype": "text/x-python",
   "name": "python",
   "nbconvert_exporter": "python",
   "pygments_lexer": "ipython3",
   "version": "3.10.10"
  }
 },
 "nbformat": 4,
 "nbformat_minor": 2
}
