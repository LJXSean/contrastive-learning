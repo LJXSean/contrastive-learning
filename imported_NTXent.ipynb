{
 "cells": [
  {
   "cell_type": "code",
   "execution_count": 1,
   "metadata": {},
   "outputs": [
    {
     "name": "stderr",
     "output_type": "stream",
     "text": [
      "c:\\Users\\sean2\\AppData\\Local\\Programs\\Python\\Python310\\lib\\site-packages\\tqdm\\auto.py:21: TqdmWarning: IProgress not found. Please update jupyter and ipywidgets. See https://ipywidgets.readthedocs.io/en/stable/user_install.html\n",
      "  from .autonotebook import tqdm as notebook_tqdm\n"
     ]
    }
   ],
   "source": [
    "import pandas as pd\n",
    "import json\n",
    "import torch\n",
    "from torch.optim import AdamW\n",
    "from transformers import AutoModel\n",
    "from transformers import AutoTokenizer\n",
    "from datasets import load_dataset\n",
    "from torch.utils.data import DataLoader\n",
    "from pytorch_metric_learning import miners, losses\n",
    "from datasets import load_metric"
   ]
  },
  {
   "cell_type": "code",
   "execution_count": 2,
   "metadata": {},
   "outputs": [],
   "source": [
    "data_path_aclarc = \"./acl-arc/scaffolds/sections-scaffold-train.jsonl\"\n",
    "data_path_scicite = \"./scicite/scaffolds/sections-scaffold-train.jsonl\"\n",
    "with open(data_path_aclarc, encoding='utf-8') as data_file:\n",
    "    data = [json.loads(line) for line in data_file]\n",
    "    df = pd.DataFrame(data).drop_duplicates()\n"
   ]
  },
  {
   "cell_type": "markdown",
   "metadata": {},
   "source": [
    "#### Positive Sampling"
   ]
  },
  {
   "cell_type": "code",
   "execution_count": 3,
   "metadata": {},
   "outputs": [],
   "source": [
    "final_cols = ['text', 'text_pos', 'label']\n",
    "\n",
    "def split_and_concatenate(group):\n",
    "    # Calculate the split index\n",
    "    split_index = len(group) // 2\n",
    "    \n",
    "    # Split the group into two halves\n",
    "    first_half = group.iloc[:split_index].reset_index(drop=True)['text']\n",
    "    second_half = group.iloc[split_index:].reset_index(drop=True)\n",
    "    second_half.rename(columns={'text': 'text_pos'}, inplace=True)\n",
    "\n",
    "    # Concatenate the halves horizontally\n",
    "    concatenated = pd.concat([first_half, second_half], axis=1)\n",
    "    return concatenated\n",
    "\n",
    "# Gets samples using concatenation\n",
    "def get_pos_samples_concat(df, sort_cols):\n",
    "    df_concat = df.copy(deep=True)\n",
    "\n",
    "    # Dummy columns for groupby, to keep original columns\n",
    "    include_groups = [i + '_drop' for i in sort_cols]\n",
    "    df_concat[include_groups] = df_concat[sort_cols]\n",
    "    \n",
    "    result = df_concat.groupby(include_groups).apply(split_and_concatenate, include_groups=False).reset_index(drop=True)\n",
    "    return result\n",
    "\n",
    "def add_label(result, sort_cols):\n",
    "    # Add Label\n",
    "    if len(sort_cols) > 1:\n",
    "        result['combined'] = result[sort_cols].T.agg(''.join)\n",
    "    else:\n",
    "        result['combined'] = result[sort_cols]\n",
    "\n",
    "    labels, _ = pd.factorize(result['combined'])\n",
    "    result['label'] = labels\n",
    "\n",
    "    return result[final_cols]\n",
    "\n",
    "# Replace NA with text_pos (dropout in roberta will treat this as unsupervised learning)\n",
    "def handle_na(df):\n",
    "    df.loc[pd.isna(df['text']), 'text'] = df.loc[pd.isna(df['text'])]['text_pos']\n",
    "\n",
    "def process_data(df, sort_cols):\n",
    "    concat = get_pos_samples_concat(df, sort_cols=sort_cols)\n",
    "    concat_with_labels = add_label(concat, sort_cols)\n",
    "    handle_na(concat_with_labels)\n",
    "    return concat_with_labels\n",
    "\n",
    "section_paper = ['section_name', 'cited_paper_id']\n",
    "section = ['section_name']\n",
    "\n",
    "concat_section_paper = process_data(df, sort_cols=section_paper)\n",
    "concat_section = process_data(df, sort_cols=section)"
   ]
  },
  {
   "cell_type": "markdown",
   "metadata": {},
   "source": [
    "#### Exploration"
   ]
  },
  {
   "cell_type": "code",
   "execution_count": 4,
   "metadata": {},
   "outputs": [
    {
     "name": "stdout",
     "output_type": "stream",
     "text": [
      "label\n",
      "4796     45\n",
      "16964    24\n",
      "3451     24\n",
      "14339    24\n",
      "3469     24\n",
      "         ..\n",
      "9832      1\n",
      "9831      1\n",
      "9830      1\n",
      "9826      1\n",
      "27407     1\n",
      "Name: count, Length: 27408, dtype: int64\n",
      "label\n",
      "2    10521\n",
      "4     4657\n",
      "1     4311\n",
      "3     2880\n",
      "0      997\n",
      "Name: count, dtype: int64\n"
     ]
    }
   ],
   "source": [
    "print(concat_section_paper['label'].value_counts())\n",
    "print(concat_section['label'].value_counts())"
   ]
  },
  {
   "cell_type": "code",
   "execution_count": 5,
   "metadata": {},
   "outputs": [],
   "source": [
    "concat_section_paper.to_csv('data_file_sectionPaper.csv', index=False)\n",
    "concat_section.to_csv('data_file_section.csv', index=False)"
   ]
  },
  {
   "cell_type": "markdown",
   "metadata": {},
   "source": [
    "#### Tokenise data"
   ]
  },
  {
   "cell_type": "code",
   "execution_count": 6,
   "metadata": {},
   "outputs": [],
   "source": [
    "class CitationDataSet:\n",
    "    def __init__(self, source, tokenizer_name='allenai/scibert_scivocab_uncased'):\n",
    "        self.dataset = load_dataset(\"csv\", data_files=source)\n",
    "        self.tokenizer = AutoTokenizer.from_pretrained(tokenizer_name)\n",
    "        self.column_names = self.dataset['train'].column_names\n",
    "        self.col_name = self.column_names[0]\n",
    "        self.label_col = self.column_names[-1]\n",
    "\n",
    "    def tokenize(self, examples, max_length=256):\n",
    "        id_masks_all_cols = []\n",
    "        batch_size = len(examples[self.col_name])\n",
    "\n",
    "        # Tokenize examples for each column (ignore last column ie. 'label')\n",
    "        for k in self.column_names[:-1]:\n",
    "            id_mask = self.tokenizer(examples[k], truncation=True, padding='max_length', max_length=max_length)\n",
    "            id_masks_all_cols.append(id_mask)\n",
    "\n",
    "        zipped_id_mask = {}\n",
    "        id_mask_col = id_masks_all_cols[0]\n",
    "\n",
    "        # Zips all columns together for each feature, input_id/attention_mask\n",
    "        for feature in id_mask_col:\n",
    "            zipped_id_mask[feature] = [[id_mask[feature][i] for id_mask in id_masks_all_cols] for i in range(batch_size)]\n",
    "\n",
    "        zipped_id_mask[self.label_col] = examples[self.label_col]\n",
    "        return zipped_id_mask\n",
    "\n",
    "    \n",
    "    def get_dataloader(self):\n",
    "        # Shape = [features, batch_size, (anchor, pos)/label]\n",
    "        dataset = self.dataset['train'].map(self.tokenize, batched=True, remove_columns=self.column_names)\n",
    "\n",
    "        dataset.set_format(\"torch\")\n",
    "        train_dataloader = DataLoader(dataset, shuffle=True, batch_size=32)\n",
    "        return train_dataloader"
   ]
  },
  {
   "cell_type": "markdown",
   "metadata": {},
   "source": [
    "#### Fine Tune Model"
   ]
  },
  {
   "cell_type": "code",
   "execution_count": 7,
   "metadata": {},
   "outputs": [],
   "source": [
    "# Uses [CLS] token representation\n",
    "def encoder(batch, model):\n",
    "    input_ids = batch['input_ids']\n",
    "    attention_mask = batch['attention_mask']\n",
    "    labels = batch['label']\n",
    "\n",
    "    # Flatten to encode all at once\n",
    "    input_ids = torch.cat((input_ids[:, 0], input_ids[:, 1]))\n",
    "    attention_mask = torch.cat((attention_mask[:, 0], attention_mask[:, 1]))\n",
    "    labels = labels.repeat(2)\n",
    "\n",
    "    # Data augmentation handled by scibert, dropout implemented under the hood\n",
    "    outputs = model(input_ids=input_ids, attention_mask=attention_mask)\n",
    "    embeddings = outputs.last_hidden_state[:, 0]\n",
    "    return embeddings, labels"
   ]
  },
  {
   "cell_type": "code",
   "execution_count": 8,
   "metadata": {},
   "outputs": [],
   "source": [
    "miner = miners.MultiSimilarityMiner()\n",
    "loss_func = losses.NTXentLoss(temperature=0.07)\n",
    "\n",
    "def train_and_save(save_directory, train_dataloader, mining=False, model_name='allenai/scibert_scivocab_uncased'):\n",
    "    model = AutoModel.from_pretrained(model_name)\n",
    "    model.train()\n",
    "\n",
    "    optimizer = AdamW(model.parameters(), lr=5e-5)\n",
    "    epochs = 2\n",
    "\n",
    "    for epoch in range(epochs):\n",
    "        total_loss = 0\n",
    "        # Shape = [#features, #batch_size, #tensor_length]\n",
    "        for i, batch in enumerate(train_dataloader):\n",
    "            optimizer.zero_grad()\n",
    "\n",
    "            embeddings, labels = encoder(batch, model)\n",
    "            if mining:\n",
    "                hard_pairs = miner(embeddings, labels)\n",
    "                loss = loss_func(embeddings, labels, hard_pairs)\n",
    "            else:\n",
    "                loss = loss_func(embeddings, labels)\n",
    "\n",
    "            loss.backward()\n",
    "            optimizer.step()\n",
    "            \n",
    "            total_loss += loss.item()\n",
    "\n",
    "            if i % 10 == 0:\n",
    "                print(f\"Batch: {i+1}/{len(train_dataloader)}\")\n",
    "\n",
    "        print(f\"Epoch {epoch+1}, Loss: {total_loss/len(train_dataloader)}\")\n",
    "    \n",
    "    model.save_pretrained(save_directory)"
   ]
  },
  {
   "cell_type": "code",
   "execution_count": 9,
   "metadata": {},
   "outputs": [
    {
     "name": "stderr",
     "output_type": "stream",
     "text": [
      "Generating train split: 34280 examples [00:00, 156705.33 examples/s]\n",
      "Map: 100%|██████████| 34280/34280 [00:10<00:00, 3218.87 examples/s]\n"
     ]
    },
    {
     "name": "stdout",
     "output_type": "stream",
     "text": [
      "Batch: 1/1072\n"
     ]
    },
    {
     "data": {
      "text/plain": [
       "\"\\ntrain_and_save('./sectionPaper_without_hard', train_dataloader, False)\\n\\ntrain_dataloader = CitationDataSet('data_file_section.csv').get_dataloader()\\ntrain_and_save('./section_with_hard', train_dataloader, True)\\ntrain_and_save('./section_without_hard', train_dataloader, False)\\n\""
      ]
     },
     "execution_count": 9,
     "metadata": {},
     "output_type": "execute_result"
    }
   ],
   "source": [
    "train_dataloader = CitationDataSet(\"data_file_sectionPaper.csv\").get_dataloader()\n",
    "train_and_save('./sectionPaper_with_hard', train_dataloader, True)\n",
    "\n",
    "\"\"\"\n",
    "train_and_save('./sectionPaper_without_hard', train_dataloader, False)\n",
    "\n",
    "train_dataloader = CitationDataSet('data_file_section.csv').get_dataloader()\n",
    "train_and_save('./section_with_hard', train_dataloader, True)\n",
    "train_and_save('./section_without_hard', train_dataloader, False)\n",
    "\"\"\"\n"
   ]
  }
 ],
 "metadata": {
  "kernelspec": {
   "display_name": "Python 3",
   "language": "python",
   "name": "python3"
  },
  "language_info": {
   "codemirror_mode": {
    "name": "ipython",
    "version": 3
   },
   "file_extension": ".py",
   "mimetype": "text/x-python",
   "name": "python",
   "nbconvert_exporter": "python",
   "pygments_lexer": "ipython3",
   "version": "3.10.10"
  }
 },
 "nbformat": 4,
 "nbformat_minor": 2
}
