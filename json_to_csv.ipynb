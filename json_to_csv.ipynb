{
 "cells": [
  {
   "cell_type": "code",
   "execution_count": 1,
   "metadata": {},
   "outputs": [
    {
     "name": "stderr",
     "output_type": "stream",
     "text": [
      "c:\\Users\\sean2\\AppData\\Local\\Programs\\Python\\Python310\\lib\\site-packages\\tqdm\\auto.py:21: TqdmWarning: IProgress not found. Please update jupyter and ipywidgets. See https://ipywidgets.readthedocs.io/en/stable/user_install.html\n",
      "  from .autonotebook import tqdm as notebook_tqdm\n"
     ]
    }
   ],
   "source": [
    "import pandas as pd\n",
    "import json\n",
    "import torch\n",
    "from torch.optim import AdamW\n",
    "from transformers import AutoModel\n",
    "from transformers import AutoTokenizer\n",
    "from datasets import load_dataset\n",
    "from torch.utils.data import DataLoader\n",
    "from pytorch_metric_learning import miners, losses\n",
    "from datasets import load_metric"
   ]
  },
  {
   "cell_type": "code",
   "execution_count": 2,
   "metadata": {},
   "outputs": [],
   "source": [
    "data_path_aclarc = \"./acl-arc/scaffolds/sections-scaffold-train.jsonl\"\n",
    "data_path_scicite = \"./scicite/scaffolds/sections-scaffold-train.jsonl\"\n",
    "with open(data_path_scicite, encoding='utf-8') as data_file:\n",
    "    data = [json.loads(line) for line in data_file]\n",
    "    df = pd.DataFrame(data).drop_duplicates()"
   ]
  },
  {
   "cell_type": "code",
   "execution_count": 24,
   "metadata": {},
   "outputs": [],
   "source": [
    "final_cols = ['cleaned_cite_text', 'cleaned_cite_text_pos', 'label']\n",
    "\n",
    "def split_and_concatenate(group):\n",
    "    # Calculate the split index\n",
    "    split_index = len(group) // 2\n",
    "    \n",
    "    # Split the group into two halves\n",
    "    first_half = group.iloc[:split_index].reset_index(drop=True)['cleaned_cite_text']\n",
    "    second_half = group.iloc[split_index:].reset_index(drop=True)\n",
    "    second_half.rename(columns={'cleaned_cite_text': 'cleaned_cite_text_pos'}, inplace=True)\n",
    "\n",
    "    # Concatenate the halves horizontally\n",
    "    concatenated = pd.concat([first_half, second_half], axis=1)\n",
    "    return concatenated\n",
    "\n",
    "# Gets samples using concatenation\n",
    "def get_pos_samples_concat(df, sort_cols):\n",
    "    df_concat = df.copy(deep=True)\n",
    "\n",
    "    # Dummy columns for groupby, to keep original columns\n",
    "    include_groups = [i + '_drop' for i in sort_cols]\n",
    "    df_concat[include_groups] = df_concat[sort_cols]\n",
    "    \n",
    "    result = df_concat.groupby(include_groups).apply(split_and_concatenate, include_groups=False).reset_index(drop=True)\n",
    "    return result\n",
    "\n",
    "def add_label(result, sort_cols):\n",
    "    # Add Label\n",
    "    if len(sort_cols) > 1:\n",
    "        result['combined'] = result[sort_cols].T.agg(''.join)\n",
    "    else:\n",
    "        result['combined'] = result[sort_cols]\n",
    "\n",
    "    labels, _ = pd.factorize(result['combined'])\n",
    "    result['label'] = labels\n",
    "    return result[final_cols]\n",
    "\n",
    "# Replace NA with text_pos (dropout in roberta will treat this as unsupervised learning)\n",
    "def handle_na(input_df):\n",
    "    input_df.loc[pd.isna(input_df['cleaned_cite_text']), 'cleaned_cite_text'] = input_df.loc[pd.isna(input_df['cleaned_cite_text'])]['cleaned_cite_text_pos']\n",
    "\n",
    "def process_data(df, sort_cols):\n",
    "    concat = get_pos_samples_concat(df, sort_cols=sort_cols)\n",
    "    concat_with_labels = add_label(concat, sort_cols)\n",
    "    handle_na(concat_with_labels)\n",
    "    concat_with_labels.columns = ['text', 'text_pos', 'label']\n",
    "\n",
    "    return concat_with_labels\n",
    "\n",
    "section_paper = ['section_name', 'cited_paper_id']\n",
    "section = ['section_name']\n",
    "\n",
    "# scicite does not have cited paper id\n",
    "concat_section = process_data(df, sort_cols=section)\n"
   ]
  },
  {
   "cell_type": "code",
   "execution_count": 25,
   "metadata": {},
   "outputs": [
    {
     "name": "stdout",
     "output_type": "stream",
     "text": [
      "label\n",
      "2    17656\n",
      "0     9441\n",
      "1     7496\n",
      "3     7387\n",
      "4     3727\n",
      "Name: count, dtype: int64\n",
      "8\n"
     ]
    }
   ],
   "source": [
    "print(concat_section['label'].value_counts())\n",
    "print(len(concat_section.loc[concat_section['text'] == concat_section['text_pos']]))"
   ]
  }
 ],
 "metadata": {
  "kernelspec": {
   "display_name": "Python 3",
   "language": "python",
   "name": "python3"
  },
  "language_info": {
   "codemirror_mode": {
    "name": "ipython",
    "version": 3
   },
   "file_extension": ".py",
   "mimetype": "text/x-python",
   "name": "python",
   "nbconvert_exporter": "python",
   "pygments_lexer": "ipython3",
   "version": "3.10.10"
  }
 },
 "nbformat": 4,
 "nbformat_minor": 2
}
